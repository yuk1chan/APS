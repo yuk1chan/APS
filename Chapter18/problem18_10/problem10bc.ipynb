{
 "cells": [
  {
   "cell_type": "code",
   "execution_count": 1,
   "metadata": {},
   "outputs": [],
   "source": [
    "using Plots"
   ]
  },
  {
   "cell_type": "code",
   "execution_count": 2,
   "metadata": {},
   "outputs": [
    {
     "data": {
      "text/plain": [
       "Plots.GRBackend()"
      ]
     },
     "execution_count": 2,
     "metadata": {},
     "output_type": "execute_result"
    }
   ],
   "source": [
    "gr()"
   ]
  },
  {
   "cell_type": "code",
   "execution_count": 3,
   "metadata": {},
   "outputs": [],
   "source": [
    "using Distributions\n",
    "using StatsBase\n",
    "using SymPy"
   ]
  },
  {
   "cell_type": "code",
   "execution_count": 4,
   "metadata": {},
   "outputs": [
    {
     "data": {
      "text/plain": [
       "(x, λ)"
      ]
     },
     "execution_count": 4,
     "metadata": {},
     "output_type": "execute_result"
    }
   ],
   "source": [
    "@syms x λ"
   ]
  },
  {
   "cell_type": "code",
   "execution_count": 5,
   "metadata": {},
   "outputs": [
    {
     "data": {
      "text/plain": [
       "psi (generic function with 1 method)"
      ]
     },
     "execution_count": 5,
     "metadata": {},
     "output_type": "execute_result"
    }
   ],
   "source": [
    "function psi(x,λ)\n",
    "    return exp(-λ*x^2)\n",
    "end"
   ]
  },
  {
   "cell_type": "code",
   "execution_count": 6,
   "metadata": {},
   "outputs": [
    {
     "data": {
      "text/plain": [
       "psi2 (generic function with 1 method)"
      ]
     },
     "execution_count": 6,
     "metadata": {},
     "output_type": "execute_result"
    }
   ],
   "source": [
    "function psi2(x,λ)\n",
    "    return psi(x,λ)^2\n",
    "end"
   ]
  },
  {
   "cell_type": "code",
   "execution_count": 7,
   "metadata": {},
   "outputs": [
    {
     "data": {
      "text/latex": [
       "\\begin{equation*}2 λ \\left(2 x^{2} λ - 1\\right) e^{- x^{2} λ}\\end{equation*}"
      ],
      "text/plain": [
       "                    2  \n",
       "    ⎛   2      ⎞  -x ⋅λ\n",
       "2⋅λ⋅⎝2⋅x ⋅λ - 1⎠⋅ℯ     "
      ]
     },
     "execution_count": 7,
     "metadata": {},
     "output_type": "execute_result"
    }
   ],
   "source": [
    "diff(psi(x,λ),x,2)"
   ]
  },
  {
   "cell_type": "code",
   "execution_count": 8,
   "metadata": {},
   "outputs": [
    {
     "data": {
      "text/plain": [
       "V (generic function with 1 method)"
      ]
     },
     "execution_count": 8,
     "metadata": {},
     "output_type": "execute_result"
    }
   ],
   "source": [
    "function V(x)\n",
    "    return (x^2)/2\n",
    "end"
   ]
  },
  {
   "cell_type": "code",
   "execution_count": 9,
   "metadata": {},
   "outputs": [
    {
     "data": {
      "text/plain": [
       "Hpsi (generic function with 1 method)"
      ]
     },
     "execution_count": 9,
     "metadata": {},
     "output_type": "execute_result"
    }
   ],
   "source": [
    "function Hpsi(x,λ)\n",
    "    return -(2λ*(2(x^2)λ - 1))psi(x,λ)/2 + V(x)psi(x,λ)\n",
    "end\n",
    "# Hpsi(1,1)"
   ]
  },
  {
   "cell_type": "code",
   "execution_count": 10,
   "metadata": {},
   "outputs": [
    {
     "data": {
      "text/plain": [
       "point (generic function with 1 method)"
      ]
     },
     "execution_count": 10,
     "metadata": {},
     "output_type": "execute_result"
    }
   ],
   "source": [
    "function point(δ)\n",
    "    return δ*(2*rand()-1)\n",
    "end"
   ]
  },
  {
   "cell_type": "code",
   "execution_count": 57,
   "metadata": {},
   "outputs": [
    {
     "data": {
      "text/plain": [
       "Metropolis (generic function with 1 method)"
      ]
     },
     "execution_count": 57,
     "metadata": {},
     "output_type": "execute_result"
    }
   ],
   "source": [
    "function Metropolis(N,λ)\n",
    "    δ = 3.0\n",
    "    x = 1.0\n",
    "    count = 0\n",
    "    \n",
    "    # 確率分布に収束させるために、最初は飛ばす\n",
    "    while count <= 10000\n",
    "        \n",
    "        x_trial = x + point(δ)\n",
    "        w = psi2(x_trial,λ)/psi2(x,λ)\n",
    "        \n",
    "        if point(δ) <= w\n",
    "            x = x_trial\n",
    "            count = count+1\n",
    "        end\n",
    "        \n",
    "    end\n",
    "    \n",
    "    count = 0\n",
    "    sumE = 0.0\n",
    "    sumE2 = 0.0\n",
    "    # メトロポリス法\n",
    "    count1 = 0\n",
    "    while count < N\n",
    "        count1 += 1\n",
    "        x_trial = x + point(δ)\n",
    "        w = psi2(x_trial,λ)/psi2(x,λ)\n",
    "        \n",
    "        if point(δ) <= w\n",
    "            x = x_trial\n",
    "            \n",
    "            count = count+1\n",
    "            \n",
    "            tmp = Hpsi(x,λ)/psi(x,λ)\n",
    "            sumE += tmp\n",
    "            sumE2 += tmp^2\n",
    "            \n",
    "            \n",
    "        end\n",
    "        \n",
    "    end\n",
    "    \n",
    "    E = sumE/count\n",
    "    V = sumE2/count - E^2\n",
    "    @show count/count1\n",
    "    println(\"λ = $λ\")\n",
    "    println(\"E = $E\")\n",
    "    println(\"V = $V\")\n",
    "    println(sqrt(V)/sqrt(N))\n",
    "    println()\n",
    "    \n",
    "end"
   ]
  },
  {
   "cell_type": "code",
   "execution_count": 63,
   "metadata": {},
   "outputs": [
    {
     "name": "stdout",
     "output_type": "stream",
     "text": [
      "count / count1 = 0.6840319579730765\n",
      "λ = 0.1\n",
      "E = 9.594622072954632\n",
      "V = 355.0981163706816\n",
      "0.01884404723966382\n",
      "\n",
      "count / count1 = 0.684914149435939\n",
      "λ = 0.2\n",
      "E = 8.145750312888886\n",
      "V = 291.36152443768106\n",
      "0.017069315289070065\n",
      "\n",
      "count / count1 = 0.6840436556661046\n",
      "λ = 0.3\n",
      "E = 6.08133928010527\n",
      "V = 152.08035683944618\n",
      "0.012332086475509575\n",
      "\n",
      "count / count1 = 0.6859345687014916\n",
      "λ = 0.4\n",
      "E = 3.5971751127994085\n",
      "V = 45.99841755171457\n",
      "0.006782213322486588\n",
      "\n",
      "count / count1 = 0.6845746840174403\n",
      "λ = 0.5\n",
      "E = 0.5\n",
      "V = 0.0\n",
      "0.0\n",
      "\n",
      "count / count1 = 0.6853356671297252\n",
      "λ = 0.6\n",
      "E = -3.2759968530133508\n",
      "V = 64.73799669969767\n",
      "0.008045992586356122\n",
      "\n",
      "count / count1 = 0.685070867155853\n",
      "λ = 0.7\n",
      "E = -7.883187134711056\n",
      "V = 320.14258382695033\n",
      "0.017892528715275274\n",
      "\n",
      "count / count1 = 0.6866278538828462\n",
      "λ = 0.8\n",
      "E = -12.877774524301067\n",
      "V = 775.4454036359105\n",
      "0.027846820350551884\n",
      "\n",
      "count / count1 = 0.6857088000438853\n",
      "λ = 0.9\n",
      "E = -18.630625140640653\n",
      "V = 1565.282329362595\n",
      "0.03956364909058055\n",
      "\n",
      "count / count1 = 0.6855992617467149\n",
      "λ = 1.0\n",
      "E = -25.450111321275138\n",
      "V = 2870.5096295290987\n",
      "0.053577137190494784\n",
      "\n"
     ]
    }
   ],
   "source": [
    "function main()\n",
    "    \n",
    "    N = 1000000\n",
    "    for λ in 0.1:0.1:1\n",
    "        Metropolis(N,λ)\n",
    "    end\n",
    "\n",
    "end\n",
    "main()"
   ]
  },
  {
   "cell_type": "code",
   "execution_count": null,
   "metadata": {},
   "outputs": [],
   "source": []
  },
  {
   "cell_type": "code",
   "execution_count": null,
   "metadata": {},
   "outputs": [],
   "source": []
  },
  {
   "cell_type": "code",
   "execution_count": null,
   "metadata": {},
   "outputs": [],
   "source": []
  },
  {
   "cell_type": "code",
   "execution_count": null,
   "metadata": {},
   "outputs": [],
   "source": []
  },
  {
   "cell_type": "code",
   "execution_count": null,
   "metadata": {},
   "outputs": [],
   "source": []
  }
 ],
 "metadata": {
  "kernelspec": {
   "display_name": "Julia 1.0.1",
   "language": "julia",
   "name": "julia-1.0"
  },
  "language_info": {
   "file_extension": ".jl",
   "mimetype": "application/julia",
   "name": "julia",
   "version": "1.0.1"
  }
 },
 "nbformat": 4,
 "nbformat_minor": 2
}
