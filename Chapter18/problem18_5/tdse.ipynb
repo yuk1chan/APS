{
 "cells": [
  {
   "cell_type": "code",
   "execution_count": 1,
   "metadata": {},
   "outputs": [],
   "source": [
    "using Plots"
   ]
  },
  {
   "cell_type": "code",
   "execution_count": 5,
   "metadata": {},
   "outputs": [
    {
     "data": {
      "text/plain": [
       "\"true\""
      ]
     },
     "execution_count": 5,
     "metadata": {},
     "output_type": "execute_result"
    }
   ],
   "source": [
    "# @animate を高速にするためのもの\n",
    "Plots.gr()\n",
    "ENV[\"PLOTS_TEST\"] = \"true\""
   ]
  },
  {
   "cell_type": "code",
   "execution_count": 7,
   "metadata": {},
   "outputs": [
    {
     "data": {
      "text/plain": [
       "evolve (generic function with 1 method)"
      ]
     },
     "execution_count": 7,
     "metadata": {},
     "output_type": "execute_result"
    }
   ],
   "source": [
    "# 波束の時間発展を計算する\n",
    "function evolve(Re,Im,Imold,V0,a,dx,dt,xmin,n)\n",
    "    \n",
    "    for i in 2:n\n",
    "        x = xmin +(i-2)*dx\n",
    "    \n",
    "        HIm = calcV(x,V0,a)*Im[i] - 0.5(Im[i+1] -2Im[i] +Im[i-1])/dx^2\n",
    "        \n",
    "        # dtの整数倍の時刻で定義された実部\n",
    "        Re[i] = Re[i] + HIm*dt\n",
    "    end\n",
    "\n",
    "    for i in 2:n\n",
    "        x = xmin + (i-2)*dx\n",
    "        \n",
    "        # 実部よりdt/2だけ前の値\n",
    "        Imold[i] = Im[i]\n",
    "        HRe = calcV(x,V0,a)*Re[i] -0.5(Re[i+1]-2Re[i]+Re[i-1])/dx^2\n",
    "        Im[i] = Im[i] - HRe*dt\n",
    "    end\n",
    "    \n",
    "    return Re,Im,Imold\n",
    "end"
   ]
  },
  {
   "cell_type": "code",
   "execution_count": 10,
   "metadata": {},
   "outputs": [
    {
     "data": {
      "text/plain": [
       "initial_packet (generic function with 1 method)"
      ]
     },
     "execution_count": 10,
     "metadata": {},
     "output_type": "execute_result"
    }
   ],
   "source": [
    "# 初期状態としてのガウス型の波束\n",
    "function initial_packet(Re,Im,x0,k0,width,xmin,n,dx,dt)\n",
    "    \n",
    "    # 初期状態としてのガウス型の波束\n",
    "    \n",
    "    delta2 = width^2\n",
    "    A = (2π*delta2)^(-0.25)\n",
    "    b = k0*dt/2\n",
    "    \n",
    "    for i in 1:n\n",
    "        x = xmin + (i-1)*dx\n",
    "        arg  = 0.25*(x-x0)^2/delta2\n",
    "        arg2 = 0.25*(x-x0-0.5*k0*dt)^2/delta2\n",
    "\n",
    "        Re[i] = A*cos(k0*(x-x0))*exp(-arg)\n",
    "        Im[i] = A*sin(k0*(x-x0-0.5*b))*exp(-arg2)\n",
    "\n",
    "    end\n",
    "    \n",
    "    return Re,Im\n",
    "end"
   ]
  },
  {
   "cell_type": "code",
   "execution_count": 11,
   "metadata": {},
   "outputs": [
    {
     "data": {
      "text/plain": [
       "calcV (generic function with 1 method)"
      ]
     },
     "execution_count": 11,
     "metadata": {},
     "output_type": "execute_result"
    }
   ],
   "source": [
    "# ポテンシャルの計算\n",
    "function calcV(x,V0,a)\n",
    "   \n",
    "    if x > a\n",
    "        V = V0\n",
    "    else\n",
    "        V = 0\n",
    "    end\n",
    "    \n",
    "    return V\n",
    "end"
   ]
  },
  {
   "cell_type": "code",
   "execution_count": 31,
   "metadata": {
    "scrolled": false
   },
   "outputs": [
    {
     "name": "stderr",
     "output_type": "stream",
     "text": [
      "┌ Info: Saved animation to \n",
      "│   fn = /Users/yoshiyuki/aqua/Applications to Physical Systems/aps_study/problem18_5/k0=8,w=0.25.gif\n",
      "└ @ Plots /Users/yoshiyuki/.julia/packages/Plots/rmogG/src/animation.jl:90\n"
     ]
    },
    {
     "data": {
      "text/html": [
       "<img src=\"k0=8,w=0.25.gif?0.5295066893040614>\" />"
      ],
      "text/plain": [
       "Plots.AnimatedGif(\"/Users/yoshiyuki/aqua/Applications to Physical Systems/aps_study/problem18_5/k0=8,w=0.25.gif\")"
      ]
     },
     "execution_count": 31,
     "metadata": {},
     "output_type": "execute_result"
    }
   ],
   "source": [
    "function main()\n",
    "    \n",
    "    unit = 4    \n",
    "    x0    = -15            # 波束の初期位置\n",
    "    width = 1/4              # x 空間での波束の幅\n",
    "    k0    = 8              # 波束の群速度\n",
    "    xmax  = 20\n",
    "    xmin  = -xmax\n",
    "    V0    = 4              # ポテンシャルの高さ\n",
    "    a     = 1              # 井戸型ポテンシャルの幅の半分\n",
    "    dx    = 0.4/unit            # 刻み幅\n",
    "    n     = Int64((xmax-xmin)/dx)\n",
    "    dt    = 0.1/unit^2            # 時間間隔\n",
    "    t = 0\n",
    "    tmax  = 20\n",
    "    \n",
    "    plus= 10\n",
    "    N = n+plus\n",
    "    x = zeros(Float64,N)\n",
    "    Re = zeros(Float64,N)\n",
    "    Im = zeros(Float64,N)\n",
    "    Imold = zeros(Float64,N)\n",
    "    V = zeros(Float64,N)\n",
    "    \n",
    "    initial_packet(Re,Im,x0,k0,width,xmin,n,dx,dt)\n",
    "    \n",
    "    \n",
    "    for i in 2:n\n",
    "        x[i] = xmin +(i-2)*dx\n",
    "        V[i] = calcV(x[i],V0,a)\n",
    "    end\n",
    "\n",
    "    unit = 10^2\n",
    "    anim = @animate for i in 1:Int64(500)\n",
    "        \n",
    "        evolve(Re,Im,Imold,V0,a,dx,dt,xmin,n)\n",
    "        t += dt\n",
    "        t = round(t*unit)/unit\n",
    "        P = Re.^2 + Im.*Imold\n",
    "        plot(V,label=\"potential\")\n",
    "        plot!(Re,label=\"Re(psi)\")\n",
    "        plot!(Im,label=\"Im(psi)\")\n",
    "        plot!(P ,label=\"|psi|^2\")\n",
    "        plot!(ylim=(-1,V0+0.1),title=\"t=$t\")\n",
    "        \n",
    "        # 確率密度が保存されているかの確認のための計算\n",
    "#         P = sum(Re.*Re + Im.*Imold)\n",
    "#         P = P*dx\n",
    "#         ψ = Re.*Re + Im.*Imold\n",
    "#         ψ = ψ./P\n",
    "        \n",
    "#         println(\"P = $P\")\n",
    "#         println(sum(ψ)*dx)\n",
    "        \n",
    "#         temp1 = sum(x.^2 .*ψ)*dx\n",
    "#         temp2 = (sum(x.*ψ)^2)*dx*dx\n",
    "#         w = temp1 - temp2 # 確率密度分布の分散\n",
    "#         println(\"temp1 = $temp1 \\t temp2 = $temp2\")\n",
    "#         println(w)\n",
    "    end\n",
    "    \n",
    "#     w = width\n",
    "    name = \"k0=$k0,w=$width\"\n",
    "#     name = \"anim\"\n",
    "    gif(anim, \"./$name.gif\", fps = 60)\n",
    "    \n",
    "end\n",
    "main()"
   ]
  },
  {
   "cell_type": "code",
   "execution_count": null,
   "metadata": {},
   "outputs": [],
   "source": []
  },
  {
   "cell_type": "code",
   "execution_count": null,
   "metadata": {},
   "outputs": [],
   "source": []
  },
  {
   "cell_type": "code",
   "execution_count": null,
   "metadata": {},
   "outputs": [],
   "source": []
  },
  {
   "cell_type": "code",
   "execution_count": null,
   "metadata": {},
   "outputs": [],
   "source": []
  },
  {
   "cell_type": "code",
   "execution_count": null,
   "metadata": {},
   "outputs": [],
   "source": []
  }
 ],
 "metadata": {
  "kernelspec": {
   "display_name": "Julia 1.0.1",
   "language": "julia",
   "name": "julia-1.0"
  },
  "language_info": {
   "file_extension": ".jl",
   "mimetype": "application/julia",
   "name": "julia",
   "version": "1.0.1"
  }
 },
 "nbformat": 4,
 "nbformat_minor": 2
}
